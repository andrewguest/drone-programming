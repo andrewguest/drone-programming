{
 "cells": [
  {
   "cell_type": "code",
   "execution_count": 5,
   "id": "522d6082",
   "metadata": {
    "ExecuteTime": {
     "end_time": "2022-08-05T14:01:00.671403Z",
     "start_time": "2022-08-05T14:01:00.660402Z"
    }
   },
   "outputs": [],
   "source": [
    "from fido2.hid import CtapHidDevice, CAPABILITY\n",
    "from fido2.ctap2 import Ctap2"
   ]
  },
  {
   "cell_type": "code",
   "execution_count": 6,
   "id": "f122a7ef",
   "metadata": {
    "ExecuteTime": {
     "end_time": "2022-08-05T14:01:00.687479Z",
     "start_time": "2022-08-05T14:01:00.673402Z"
    }
   },
   "outputs": [],
   "source": [
    "try:\n",
    "    from fido2.pcsc import CtapPcscDevice\n",
    "except ImportError:\n",
    "    CtapPcscDevice = None"
   ]
  },
  {
   "cell_type": "code",
   "execution_count": 7,
   "id": "923b084a",
   "metadata": {
    "ExecuteTime": {
     "end_time": "2022-08-05T14:01:00.702670Z",
     "start_time": "2022-08-05T14:01:00.688480Z"
    }
   },
   "outputs": [],
   "source": [
    "def enumerate_devices():\n",
    "    for dev in CtapHidDevice.list_devices():\n",
    "        yield dev\n",
    "    if CtapPcscDevice:\n",
    "        for dev in CtapPcscDevice.list_devices():\n",
    "            yield dev"
   ]
  },
  {
   "cell_type": "code",
   "execution_count": 8,
   "id": "615ad40a",
   "metadata": {
    "ExecuteTime": {
     "end_time": "2022-08-05T14:01:00.718652Z",
     "start_time": "2022-08-05T14:01:00.704671Z"
    }
   },
   "outputs": [],
   "source": [
    "for dev in enumerate_devices():\n",
    "    print(\"CONNECT: %s\" % dev)\n",
    "    print(\"Product name: %s\" % dev.product_name)\n",
    "    print(\"Serial number: %s\" % dev.serial_number)\n",
    "    print(\"CTAPHID protocol version: %d\" % dev.version)\n",
    "\n",
    "    if dev.capabilities & CAPABILITY.CBOR:\n",
    "        ctap2 = Ctap2(dev)\n",
    "        info = ctap2.get_info()\n",
    "        print(\"DEVICE INFO: %s\" % info)\n",
    "    else:\n",
    "        print(\"Device does not support CBOR\")\n",
    "\n",
    "    if dev.capabilities & CAPABILITY.WINK:\n",
    "        dev.wink()\n",
    "        print(\"WINK sent!\")\n",
    "    else:\n",
    "        print(\"Device does not support WINK\")\n",
    "\n",
    "    dev.close()"
   ]
  },
  {
   "cell_type": "code",
   "execution_count": null,
   "id": "127c69ac",
   "metadata": {},
   "outputs": [],
   "source": []
  }
 ],
 "metadata": {
  "kernelspec": {
   "display_name": "Python 3 (ipykernel)",
   "language": "python",
   "name": "python3"
  },
  "language_info": {
   "codemirror_mode": {
    "name": "ipython",
    "version": 3
   },
   "file_extension": ".py",
   "mimetype": "text/x-python",
   "name": "python",
   "nbconvert_exporter": "python",
   "pygments_lexer": "ipython3",
   "version": "3.10.5"
  }
 },
 "nbformat": 4,
 "nbformat_minor": 5
}
